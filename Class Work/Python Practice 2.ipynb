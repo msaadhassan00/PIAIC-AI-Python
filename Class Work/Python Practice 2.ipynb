{
 "cells": [
  {
   "cell_type": "markdown",
   "id": "b3bc1e5d",
   "metadata": {},
   "source": [
    "Functions: Local vs Global Variables"
   ]
  },
  {
   "cell_type": "markdown",
   "id": "d3159d47",
   "metadata": {},
   "source": [
    "Global Variable"
   ]
  },
  {
   "cell_type": "code",
   "execution_count": 1,
   "id": "313d85b2",
   "metadata": {},
   "outputs": [
    {
     "name": "stdout",
     "output_type": "stream",
     "text": [
      "Hi\n"
     ]
    }
   ],
   "source": [
    "what_to_say = \"Hi\"\n",
    "\n",
    "def say_something():\n",
    "    print(what_to_say)\n",
    "    \n",
    "say_something()"
   ]
  },
  {
   "cell_type": "markdown",
   "id": "65275b1d",
   "metadata": {},
   "source": [
    "Local Variable"
   ]
  },
  {
   "cell_type": "code",
   "execution_count": 7,
   "id": "f2c02e86",
   "metadata": {},
   "outputs": [
    {
     "ename": "NameError",
     "evalue": "name 'greet' is not defined",
     "output_type": "error",
     "traceback": [
      "\u001b[1;31m---------------------------------------------------------------------------\u001b[0m",
      "\u001b[1;31mNameError\u001b[0m                                 Traceback (most recent call last)",
      "Input \u001b[1;32mIn [7]\u001b[0m, in \u001b[0;36m<cell line: 5>\u001b[1;34m()\u001b[0m\n\u001b[0;32m      2\u001b[0m     greet \u001b[38;5;241m=\u001b[39m \u001b[38;5;124m\"\u001b[39m\u001b[38;5;124mHello\u001b[39m\u001b[38;5;124m\"\u001b[39m\n\u001b[0;32m      3\u001b[0m     \u001b[38;5;28mprint\u001b[39m(greet)\n\u001b[1;32m----> 5\u001b[0m \u001b[38;5;28mprint\u001b[39m(\u001b[43mgreet\u001b[49m)\n",
      "\u001b[1;31mNameError\u001b[0m: name 'greet' is not defined"
     ]
    }
   ],
   "source": [
    "def greeting():\n",
    "    greet = \"Hello\"\n",
    "    print(greet)\n",
    "    \n",
    "# this code will not run because \"greet\" in not a global variable\n",
    "print(greet)"
   ]
  },
  {
   "cell_type": "code",
   "execution_count": 10,
   "id": "1bc1825c",
   "metadata": {},
   "outputs": [
    {
     "name": "stdout",
     "output_type": "stream",
     "text": [
      "1\n",
      "2\n",
      "3\n"
     ]
    }
   ],
   "source": [
    "def numbers():\n",
    "    x = 1\n",
    "    print(x)\n",
    "    y = 2\n",
    "    print(y)\n",
    "    z = 3  \n",
    "    print(z)\n",
    "    \n",
    "numbers()"
   ]
  },
  {
   "cell_type": "markdown",
   "id": "2a729803",
   "metadata": {},
   "source": [
    "Functions within Functions"
   ]
  },
  {
   "cell_type": "code",
   "execution_count": 14,
   "id": "ac150c43",
   "metadata": {},
   "outputs": [
    {
     "name": "stdout",
     "output_type": "stream",
     "text": [
      "Hi\n"
     ]
    }
   ],
   "source": [
    "def say_something():\n",
    "    what_to_say = \"Hello World\"\n",
    "    now_say_it()\n",
    "    \n",
    "    \n",
    "def now_say_it():\n",
    "    print(what_to_say)\n",
    "    \n",
    "\n",
    "now_say_it()"
   ]
  },
  {
   "cell_type": "markdown",
   "id": "3a57afe8",
   "metadata": {},
   "source": [
    "Functions withing Functions (Argunment)"
   ]
  },
  {
   "cell_type": "code",
   "execution_count": 16,
   "id": "398ab0fa",
   "metadata": {},
   "outputs": [
    {
     "name": "stdout",
     "output_type": "stream",
     "text": [
      "Hello\n"
     ]
    }
   ],
   "source": [
    "def say():\n",
    "    greet = \"Hello\"\n",
    "    now_say(greet)\n",
    "    \n",
    "def now_say(content):\n",
    "    print(content)\n",
    "    \n",
    "say()"
   ]
  },
  {
   "cell_type": "markdown",
   "id": "4b7f91a6",
   "metadata": {},
   "source": [
    "For Loop:"
   ]
  },
  {
   "cell_type": "code",
   "execution_count": 21,
   "id": "aad384ce",
   "metadata": {},
   "outputs": [
    {
     "name": "stdout",
     "output_type": "stream",
     "text": [
      "Enter City:Lahore\n",
      "Found\n"
     ]
    }
   ],
   "source": [
    "cities = ['Karachi','Peshawar','Lahore','Islamabad','Faisalabad']\n",
    "\n",
    "city = input(\"Enter City:\")\n",
    "\n",
    "for cit in cities:\n",
    "    if city == cit:\n",
    "        print(\"Found\")"
   ]
  },
  {
   "cell_type": "markdown",
   "id": "cdb1f6c3",
   "metadata": {},
   "source": [
    "While Loop:"
   ]
  },
  {
   "cell_type": "code",
   "execution_count": 25,
   "id": "b4af85c6",
   "metadata": {},
   "outputs": [
    {
     "name": "stdout",
     "output_type": "stream",
     "text": [
      "Enter 'q' to stop / Enter Anything to Continue: a\n",
      "Enter 'q' to stop / Enter Anything to Continue: b\n",
      "Enter 'q' to stop / Enter Anything to Continue: c\n",
      "Enter 'q' to stop / Enter Anything to Continue: d\n",
      "Enter 'q' to stop / Enter Anything to Continue: q\n",
      "Stopped\n"
     ]
    }
   ],
   "source": [
    "user_input = \"\"\n",
    "while user_input != 'q':\n",
    "    user_input = input(\"Enter 'q' to stop / Enter Anything to Continue: \")\n",
    "    if user_input == 'q':\n",
    "        print(\"Stopped\")"
   ]
  },
  {
   "cell_type": "markdown",
   "id": "db448847",
   "metadata": {},
   "source": [
    "While Loop: Setting a Flag"
   ]
  },
  {
   "cell_type": "code",
   "execution_count": 26,
   "id": "407888bc",
   "metadata": {},
   "outputs": [
    {
     "name": "stdout",
     "output_type": "stream",
     "text": [
      "Enter 'q' to stop / Enter Anything to Continue:s\n",
      "s\n",
      "Enter 'q' to stop / Enter Anything to Continue:f\n",
      "f\n",
      "Enter 'q' to stop / Enter Anything to Continue:q\n"
     ]
    }
   ],
   "source": [
    "Keep_loop = True\n",
    "while Keep_loop == True:\n",
    "    user_input = input(\"Enter 'q' to stop / Enter Anything to Continue:\")\n",
    "    if user_input != 'q':\n",
    "        print(user_input)\n",
    "    else:\n",
    "        Keep_loop = False"
   ]
  },
  {
   "cell_type": "markdown",
   "id": "89fec7ac",
   "metadata": {},
   "source": [
    "Class & Object:"
   ]
  },
  {
   "cell_type": "code",
   "execution_count": 27,
   "id": "024d82a0",
   "metadata": {},
   "outputs": [
    {
     "name": "stdout",
     "output_type": "stream",
     "text": [
      "Ali\n"
     ]
    }
   ],
   "source": [
    "class Name:\n",
    "    first_name = \"Ali\"\n",
    "    \n",
    "#creating object \n",
    "obj = Name()\n",
    "print(obj.first_name)"
   ]
  },
  {
   "cell_type": "markdown",
   "id": "d326d079",
   "metadata": {},
   "source": [
    "The __init__() Function:\n",
    "    \n",
    "The examples above are classes and objects in their simplest form, and are not really useful in real life applications.\n",
    "\n",
    "To understand the meaning of classes we have to understand the built-in __init__() function.\n",
    "\n",
    "All classes have a function called __init__(), which is always executed when the class is being initiated.\n",
    "\n",
    "Use the __init__() function to assign values to object properties, or other operations that are necessary to do when the object is being created:"
   ]
  },
  {
   "cell_type": "code",
   "execution_count": 29,
   "id": "bc832fd4",
   "metadata": {},
   "outputs": [
    {
     "name": "stdout",
     "output_type": "stream",
     "text": [
      "Ali\n",
      "19\n"
     ]
    }
   ],
   "source": [
    "class Person:\n",
    "    def __init__(self, name,age):\n",
    "        self.name = name\n",
    "        self.age = age\n",
    "        \n",
    "\n",
    "obj = Person(\"Ali\",19)\n",
    "print(obj.name)\n",
    "print(obj.age)"
   ]
  },
  {
   "cell_type": "markdown",
   "id": "df5edbf3",
   "metadata": {},
   "source": [
    "Assignment - 04"
   ]
  },
  {
   "cell_type": "code",
   "execution_count": 60,
   "id": "1868d943",
   "metadata": {},
   "outputs": [
    {
     "name": "stdout",
     "output_type": "stream",
     "text": [
      "Electric Charges For 45  =  22500\n",
      "Uniform Charges For 45  =  4500\n",
      "Fuel Charges For 45  =  5872.5\n",
      "Sales Tax For 45  =  1350\n",
      "Advance Tax Charges For 45  =  450\n",
      "Tv Fee For 45  =  450\n",
      "Total Bill is: 35122.5\n"
     ]
    }
   ],
   "source": [
    "def bill_main(monthly_units):\n",
    "    elec_chrg = electricity(monthly_units)\n",
    "    print(\"Electric Charges For\", monthly_units, \" = \", elec_chrg)\n",
    "    \n",
    "    uniform_chrg = uniform(monthly_units)\n",
    "    print(\"Uniform Charges For\", monthly_units, \" = \", uniform_chrg)\n",
    "    \n",
    "    fuel_chrg = fuel(monthly_units)\n",
    "    print(\"Fuel Charges For\", monthly_units, \" = \", fuel_chrg)\n",
    "    \n",
    "    sales_tax = tax(monthly_units)\n",
    "    print(\"Sales Tax For\", monthly_units, \" = \", sales_tax)\n",
    "\n",
    "    advance_tax = advance(monthly_units)\n",
    "    print(\"Advance Tax Charges For\", monthly_units, \" = \", advance_tax)\n",
    "    \n",
    "    tv_fee = tv(monthly_units)\n",
    "    print(\"Tv Fee For\", monthly_units, \" = \", tv_fee)\n",
    "    \n",
    "    tot = total(elec_chrg,uniform_chrg,fuel_chrg,sales_tax,advance_tax,tv_fee)\n",
    "    print(\"Total Bill is:\", tot)\n",
    "    \n",
    "def electricity(a):\n",
    "    if a <= 100:\n",
    "        payAmnt = a* 500\n",
    "        return payAmnt\n",
    "    if a <= 200:\n",
    "        payAmnt= a* 1000\n",
    "        return payAmnt\n",
    "    if a <= 300:\n",
    "        payAmnt= a* 1500\n",
    "        return payAmnt\n",
    "    \n",
    "def uniform(b):\n",
    "    if b <= 100:\n",
    "        unif = b * 100\n",
    "        return unif\n",
    "    if b <= 150:\n",
    "        unif = b * 56\n",
    "        return unif\n",
    "    if b <= 200:\n",
    "        unif = b * 23\n",
    "        return unif\n",
    "\n",
    "def fuel(c):\n",
    "    if c <= 100:\n",
    "        f = c * 130.5\n",
    "        return f\n",
    "    if c <= 200:\n",
    "        f = c * 140.5\n",
    "        return f\n",
    "    if c <= 300:\n",
    "        f = c * 150.5\n",
    "        return f\n",
    "    \n",
    "    \n",
    "def tax(d):\n",
    "    if d <= 50:\n",
    "        t = d * 30\n",
    "        return t\n",
    "    if d <= 100:\n",
    "        t = d * 60\n",
    "        return t\n",
    "    if d <= 150:\n",
    "        t = d * 90\n",
    "        return t\n",
    "    \n",
    "\n",
    "\n",
    "def advance(e):\n",
    "    if e <= 100:\n",
    "        a = e * 10\n",
    "        return a\n",
    "    if e <= 200:\n",
    "        a = e * 20\n",
    "        return a\n",
    "    if e <= 300:\n",
    "        a = e * 30\n",
    "        return a\n",
    "    \n",
    "def tv(f):\n",
    "    if f <= 100:\n",
    "        tv = f * 10\n",
    "        return tv\n",
    "    if f <= 200:\n",
    "        tv = f * 20\n",
    "        return tv\n",
    "    if f <= 300:\n",
    "        tv = f * 30\n",
    "        return tv\n",
    "    \n",
    "    \n",
    "def total(a,b,c,d,e,f):\n",
    "    tot = a + b + c + d + e + f\n",
    "    return tot\n",
    "\n",
    "\n",
    "bill_main(45)\n",
    "    \n"
   ]
  },
  {
   "cell_type": "code",
   "execution_count": null,
   "id": "fe9c6c33",
   "metadata": {},
   "outputs": [],
   "source": []
  }
 ],
 "metadata": {
  "kernelspec": {
   "display_name": "Python 3 (ipykernel)",
   "language": "python",
   "name": "python3"
  },
  "language_info": {
   "codemirror_mode": {
    "name": "ipython",
    "version": 3
   },
   "file_extension": ".py",
   "mimetype": "text/x-python",
   "name": "python",
   "nbconvert_exporter": "python",
   "pygments_lexer": "ipython3",
   "version": "3.9.12"
  }
 },
 "nbformat": 4,
 "nbformat_minor": 5
}
